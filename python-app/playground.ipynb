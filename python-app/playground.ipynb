{
 "cells": [
  {
   "cell_type": "code",
   "execution_count": null,
   "metadata": {},
   "outputs": [],
   "source": [
    "%pip install python-pptx\n"
   ]
  },
  {
   "cell_type": "code",
   "execution_count": 10,
   "metadata": {},
   "outputs": [
    {
     "name": "stdout",
     "output_type": "stream",
     "text": [
      "TITLE\n",
      "[]\n",
      "[]\n"
     ]
    }
   ],
   "source": [
    "\n",
    "from pptx.presentation import Presentation as PresentationT\n",
    "from pptx import Presentation\n",
    "from enum import Enum, auto\n",
    "from pptx.enum.shapes import MSO_SHAPE\n",
    "import os\n",
    "import time\n",
    "\n",
    "template_path = r'D:\\college\\cuatrimestre-6\\2025-06-16--estadias\\ut-report-generator\\.logistics-assets\\example-presentation-copy.pptx'\n",
    "\n",
    "class SlideLayout(Enum):\n",
    "    TITLE = auto()\n",
    "    CUSTOM_LAYOUT = auto()\n",
    "    COVER_PAGE = auto()\n",
    "\n",
    "def duplicate_slide(presentation: PresentationT, slide_id: int):\n",
    "    slide = presentation.slides[slide_id]\n",
    "    print(slide.slide_layout.name)\n",
    "    presentation.slides.add_slide(slide.slide_layout)\n",
    "    new_slide = presentation.slides[-1]\n",
    "    slide.shapes.add_textbox().text\n",
    "    print(list(slide.placeholders))\n",
    "    print(list(slide.shapes))\n",
    "\n",
    "template = Presentation(template_path)\n",
    "duplicate_slide(presentation=template, slide_id=0)\n",
    "# template.save(template_path)"
   ]
  },
  {
   "cell_type": "code",
   "execution_count": null,
   "metadata": {},
   "outputs": [],
   "source": []
  }
 ],
 "metadata": {
  "kernelspec": {
   "display_name": "Python 3",
   "language": "python",
   "name": "python3"
  },
  "language_info": {
   "codemirror_mode": {
    "name": "ipython",
    "version": 3
   },
   "file_extension": ".py",
   "mimetype": "text/x-python",
   "name": "python",
   "nbconvert_exporter": "python",
   "pygments_lexer": "ipython3",
   "version": "3.12.4"
  }
 },
 "nbformat": 4,
 "nbformat_minor": 2
}
