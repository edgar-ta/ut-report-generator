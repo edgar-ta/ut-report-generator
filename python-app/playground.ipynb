{
 "cells": [
  {
   "cell_type": "code",
   "execution_count": 1,
   "metadata": {},
   "outputs": [
    {
     "ename": "ModuleNotFoundError",
     "evalue": "No module named 'pptx'",
     "output_type": "error",
     "traceback": [
      "\u001b[31m---------------------------------------------------------------------------\u001b[39m",
      "\u001b[31mModuleNotFoundError\u001b[39m                       Traceback (most recent call last)",
      "\u001b[36mCell\u001b[39m\u001b[36m \u001b[39m\u001b[32mIn[1]\u001b[39m\u001b[32m, line 1\u001b[39m\n\u001b[32m----> \u001b[39m\u001b[32m1\u001b[39m \u001b[38;5;28;01mfrom\u001b[39;00m \u001b[34;01mpptx\u001b[39;00m\u001b[34;01m.\u001b[39;00m\u001b[34;01mpresentation\u001b[39;00m \u001b[38;5;28;01mimport\u001b[39;00m Presentation \u001b[38;5;28;01mas\u001b[39;00m PresentationT\n\u001b[32m      2\u001b[39m \u001b[38;5;28;01mfrom\u001b[39;00m \u001b[34;01mpptx\u001b[39;00m \u001b[38;5;28;01mimport\u001b[39;00m Presentation\n\u001b[32m      3\u001b[39m \u001b[38;5;28;01mfrom\u001b[39;00m \u001b[34;01menum\u001b[39;00m \u001b[38;5;28;01mimport\u001b[39;00m Enum, auto\n",
      "\u001b[31mModuleNotFoundError\u001b[39m: No module named 'pptx'"
     ]
    }
   ],
   "source": [
    "from pptx.presentation import Presentation as PresentationT\n",
    "from pptx import Presentation\n",
    "from enum import Enum, auto\n",
    "from pptx.enum.shapes import MSO_SHAPE\n",
    "import os\n",
    "import time\n",
    "\n",
    "template_path = r'D:\\college\\cuatrimestre-6\\2025-06-16--estadias\\ut-report-generator\\.logistics-assets\\example-presentation-copy.pptx'\n",
    "\n",
    "class SlideLayout(Enum):\n",
    "    TITLE = auto()\n",
    "    CUSTOM_LAYOUT = auto()\n",
    "    COVER_PAGE = auto()\n",
    "\n",
    "def duplicate_slide(presentation: PresentationT, slide_id: int):\n",
    "    slide = presentation.slides[slide_id]\n",
    "    print(slide.slide_layout.name)\n",
    "    presentation.slides.add_slide(slide.slide_layout)\n",
    "    new_slide = presentation.slides[-1]\n",
    "    for placeholder in slide.placeholders:\n",
    "        new_slide.shapes.add_textbox(placeholder.left, placeholder.top, placeholder.width, placeholder.height)\n",
    "\n",
    "template = Presentation(template_path)\n",
    "duplicate_slide(presentation=template, slide_id=9)\n",
    "template.save(template_path)"
   ]
  },
  {
   "cell_type": "code",
   "execution_count": null,
   "metadata": {},
   "outputs": [],
   "source": []
  }
 ],
 "metadata": {
  "kernelspec": {
   "display_name": "Python 3",
   "language": "python",
   "name": "python3"
  },
  "language_info": {
   "codemirror_mode": {
    "name": "ipython",
    "version": 3
   },
   "file_extension": ".py",
   "mimetype": "text/x-python",
   "name": "python",
   "nbconvert_exporter": "python",
   "pygments_lexer": "ipython3",
   "version": "3.12.4"
  }
 },
 "nbformat": 4,
 "nbformat_minor": 2
}
